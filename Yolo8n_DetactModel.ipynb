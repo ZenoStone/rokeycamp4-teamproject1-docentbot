{
  "nbformat": 4,
  "nbformat_minor": 0,
  "metadata": {
    "colab": {
      "provenance": []
    },
    "kernelspec": {
      "name": "python3",
      "display_name": "Python 3"
    },
    "language_info": {
      "name": "python"
    }
  },
  "cells": [
    {
      "cell_type": "markdown",
      "source": [
        "# Google Drive connect"
      ],
      "metadata": {
        "id": "6e84MOZSgL4W"
      }
    },
    {
      "cell_type": "code",
      "execution_count": null,
      "metadata": {
        "id": "3fPlDNvTgGVM"
      },
      "outputs": [],
      "source": [
        "from google.colab import drive\n",
        "drive.mount('/content/drive')"
      ]
    },
    {
      "cell_type": "markdown",
      "source": [
        "#yolov8 훈련하기 시작"
      ],
      "metadata": {
        "id": "iVdKCnnvgTN1"
      }
    },
    {
      "cell_type": "code",
      "source": [
        "%mkdir dataset # Model 저장 데이터 생성"
      ],
      "metadata": {
        "id": "w6J5jP8MgPn0"
      },
      "execution_count": null,
      "outputs": []
    },
    {
      "cell_type": "markdown",
      "source": [
        "## 집파일 경로 복사해서 하단 경로에 적용"
      ],
      "metadata": {
        "id": "dHWKR6Zygaqt"
      }
    },
    {
      "cell_type": "code",
      "source": [
        "!cp /content/drive/MyDrive/human_data.zip /content/ # Google Drive 안에 있는 .zip 파일을 불러와 코랩 드라이브에 복사해서 업로드"
      ],
      "metadata": {
        "id": "GZaH3No6gW5c"
      },
      "execution_count": null,
      "outputs": []
    },
    {
      "cell_type": "code",
      "source": [
        "!unzip /content/human_data.zip -d dataset/  # 복사한 .zip 파일을 dataset으로 압축해제"
      ],
      "metadata": {
        "id": "omZUT5jagfo2"
      },
      "execution_count": null,
      "outputs": []
    },
    {
      "cell_type": "markdown",
      "source": [
        "## 압축해제가 잘 됐는지 /dataset/test 파일 내 아무 이미지 갖고 와서 확인"
      ],
      "metadata": {
        "id": "-t5HrfgNg-YS"
      }
    },
    {
      "cell_type": "code",
      "source": [
        "# Check if image all loarded ok\n",
        "import glob\n",
        "import cv2\n",
        "from google.colab.patches import cv2_imshow\n",
        "import random\n",
        "\n",
        "\n",
        "# 이미지 파일 경로를 가져오기\n",
        "image_paths = glob.glob('/content/dataset/test/images/*.jpg')\n",
        "\n",
        "# 이미지가 없는 경우 에러 처리\n",
        "if not image_paths:\n",
        "    print(\"이미지 파일이 없습니다.\")\n",
        "else:\n",
        "    # 랜덤하게 이미지 선택\n",
        "    selected_image_path = random.choice(image_paths)\n",
        "\n",
        "    # 이미지 표시\n",
        "    img = cv2.imread(selected_image_path)\n",
        "    print(img.shape)\n",
        "    cv2_imshow(img)"
      ],
      "metadata": {
        "id": "-UFBQx-sgi4N"
      },
      "execution_count": null,
      "outputs": []
    },
    {
      "cell_type": "markdown",
      "source": [
        "## .yaml 파일 생성\n",
        "### **labelImg에서 정한 클래스 이름으로 맞춰주기, 대소문자 주의!!!!!**"
      ],
      "metadata": {
        "id": "3sjPL7ZZhQxx"
      }
    },
    {
      "cell_type": "markdown",
      "source": [
        "새로운 yaml파일을 만들고 train, val, test 데이터셋 경로가 올바른게 작성해줘야 합니다\n",
        "\n",
        "\n",
        "\n",
        "```\n",
        "변경전                       변경후\n",
        "train: ../train/images  ->  'train' : '/content/dataset/train/images'\n",
        "```"
      ],
      "metadata": {
        "id": "dltziv2RhPjH"
      }
    },
    {
      "cell_type": "code",
      "source": [
        "import yaml\n",
        "\n",
        "data = {\n",
        "        # 'train' : '/content/dataset/my_data/train/images',\n",
        "        # 'test' : '/content/dataset/my_data/test/images',\n",
        "        # 'val' : '/content/dataset/my_data/valid/images',\n",
        "        'train' : '/content/dataset/train/images',\n",
        "        'test' : '/content/dataset/test/images',\n",
        "        'val' : '/content/dataset/valid/images',\n",
        "\n",
        "        'nc': 1,\n",
        "        # 'names': ['car'] #### labelImg에서 정한 클래스 이름으로 맞춰주기, 대소문자 주의!!!!!\n",
        "        'names': ['human']\n",
        "\n",
        "        # 'names': ['Truck','Dummy']\n",
        "        # 'names': ['Normal','Error']\n",
        "        # 'names' : ['NG', 'OK']\n",
        "}\n",
        "\n",
        "# with open('/content/dataset/my_data/custom_data.yaml', 'w') as f:\n",
        "with open('/content/dataset/custom_data.yaml', 'w') as f:\n",
        "  yaml.dump(data, f)"
      ],
      "metadata": {
        "id": "O-GXZfrxhTxw"
      },
      "execution_count": null,
      "outputs": []
    },
    {
      "cell_type": "markdown",
      "source": [
        "custom_data.yaml 파일을 만들었으니 제대로 작성이 되었는지 확인합니다"
      ],
      "metadata": {
        "id": "a7JL0XwShlq7"
      }
    },
    {
      "cell_type": "code",
      "source": [
        "# with open('/content/dataset/my_data/custom_data.yaml', 'r') as f:\n",
        "with open('/content/dataset/custom_data.yaml', 'r') as f:\n",
        "  view_yaml = yaml.safe_load(f)\n",
        "  display(view_yaml)\n"
      ],
      "metadata": {
        "id": "RJY_FKEnhhBQ"
      },
      "execution_count": null,
      "outputs": []
    },
    {
      "cell_type": "markdown",
      "source": [
        "## Yolo8n install"
      ],
      "metadata": {
        "id": "Tb-gfVCdhrJ5"
      }
    },
    {
      "cell_type": "code",
      "source": [
        "!pip install ultralytics"
      ],
      "metadata": {
        "id": "uN9c5ks0hnPa"
      },
      "execution_count": null,
      "outputs": []
    },
    {
      "cell_type": "markdown",
      "source": [
        "### Yolo install Check!!!"
      ],
      "metadata": {
        "id": "VOXsE9Cuhw-S"
      }
    },
    {
      "cell_type": "code",
      "source": [
        "import ultralytics\n",
        "\n",
        "ultralytics.checks()"
      ],
      "metadata": {
        "id": "3Kvrkdhmhy-J"
      },
      "execution_count": null,
      "outputs": []
    },
    {
      "cell_type": "code",
      "source": [
        "from ultralytics import YOLO\n",
        "\n",
        "model = YOLO('yolov8n.pt')"
      ],
      "metadata": {
        "id": "JE_fy3jOh0x3"
      },
      "execution_count": null,
      "outputs": []
    },
    {
      "cell_type": "code",
      "source": [
        "print(type(model.names),len(model.names))\n",
        "\n",
        "print(model.names)"
      ],
      "metadata": {
        "id": "juuhzXaLh1Ux"
      },
      "execution_count": null,
      "outputs": []
    },
    {
      "cell_type": "code",
      "source": [
        "results = model.predict('https://ultralytics.com/images/bus.jpg', save=True, show=True)"
      ],
      "metadata": {
        "id": "UDyEHlmxh4nh"
      },
      "execution_count": null,
      "outputs": []
    },
    {
      "cell_type": "code",
      "source": [
        "from IPython.display import Image, clear_output\n",
        "Image(filename='/content/runs/detect/predict/bus.jpg',width=1000)"
      ],
      "metadata": {
        "id": "BmQHwksJh67B"
      },
      "execution_count": null,
      "outputs": []
    },
    {
      "cell_type": "code",
      "source": [
        "# model.train(data='/content/dataset/my_data/custom_data.yaml', epochs= 100, patience = 20, batch=32, imgsz =640)\n",
        "model.train(data='/content/dataset/custom_data.yaml', epochs= 100, patience = 20, batch=32, imgsz =640)"
      ],
      "metadata": {
        "id": "okVnMUdxh-nJ"
      },
      "execution_count": null,
      "outputs": []
    },
    {
      "cell_type": "markdown",
      "source": [
        "### F1 score calculate"
      ],
      "metadata": {
        "id": "YbnCPknAiCBh"
      }
    },
    {
      "cell_type": "markdown",
      "source": [
        "f1 = 2*(precision * recall) / (precision + 1)"
      ],
      "metadata": {
        "id": "AmPW-b94iIcj"
      }
    },
    {
      "cell_type": "code",
      "source": [
        "f1 = 2*0.9940479577432576*1 / (0.9940479577432576 + 1)\n",
        "f1"
      ],
      "metadata": {
        "id": "FcNKzRAvh_HS"
      },
      "execution_count": null,
      "outputs": []
    },
    {
      "cell_type": "code",
      "source": [
        "# model.train(data='/content/dataset/my_data/custom_data.yaml', epochs= 100, patience = 20, batch=32, imgsz =640)\n",
        "model.train(data='/content/dataset/custom_data.yaml', epochs= 100, patience = 20, batch=32, imgsz =640)"
      ],
      "metadata": {
        "id": "Lvo_fsPMiLMj"
      },
      "execution_count": null,
      "outputs": []
    },
    {
      "cell_type": "code",
      "source": [
        "from IPython.display import Image, clear_output\n",
        "Image(filename='/content/runs/detect/train/results.png',width=1000)"
      ],
      "metadata": {
        "id": "lc5MVXVZiOa5"
      },
      "execution_count": null,
      "outputs": []
    },
    {
      "cell_type": "markdown",
      "source": [
        "### F1-Score Cal\n",
        "<bar>\n",
        "ex) <bar>\n",
        "Results saved to runs/detect/val2\n",
        "모델 검증이 완료되었습니다. <bar>\n",
        "\n",
        "Please check the directory: runs/detect/val2 for the F1-Confidence curve plot (usually named 'F1_curve.png' or similar). <bar>\n",
        "\n",
        "**저장된 모델 이름 확인, 경로 따라가면 계산된 결과 이미지 파일이 존재함**"
      ],
      "metadata": {
        "id": "Ok14siwdjRUH"
      }
    },
    {
      "cell_type": "code",
      "source": [
        "# 1. Ultralytics 라이브러리 설치\n",
        "!pip install ultralytics -q\n",
        "\n",
        "import torch\n",
        "from ultralytics import YOLO\n",
        "import numpy as np\n",
        "import matplotlib.pyplot as plt\n",
        "import yaml\n",
        "\n",
        "# 2. YOLOv8n 모델 로드\n",
        "# 만약 직접 학습시킨 모델 가중치 파일(.pt)이 있다면 경로를 수정해주세요.\n",
        "model = YOLO('/content/runs/detect/train/weights/best.pt')\n",
        "\n",
        "\n",
        "# 3. 모델 검증(Validation) 실행\n",
        "# 'data' 인자에는 직접 사용하실 데이터셋의 .yaml 파일 경로를 지정해야 합니다.\n",
        "# plots=True를 주면 F1-Confidence 커브를 포함한 다양한 결과가 runs/detect/val/ 폴더에 저장됩니다.\n",
        "print(\"모델 검증을 시작합니다. 데이터셋 크기에 따라 시간이 소요될 수 있습니다...\")\n",
        "\n",
        "# Load your custom data.yaml file\n",
        "custom_data_path = '/content/dataset/custom_data.yaml'\n",
        "with open(custom_data_path, 'r') as f:\n",
        "    data_yaml = yaml.safe_load(f)\n",
        "\n",
        "validator = model.val(data=custom_data_path, plots=True)\n",
        "print(\"모델 검증이 완료되었습니다.\")\n",
        "\n",
        "# The F1-Confidence curve plot should be saved in the runs/detect/val/ directory\n",
        "print(f\"Please check the directory: {validator.save_dir} for the F1-Confidence curve plot (usually named 'F1_curve.png' or similar).\")\n",
        "\n",
        "# Note: Directly extracting F1 scores and confidence thresholds for plotting\n",
        "# from the validator object is not straightforward in this version.\n",
        "# Relying on the built-in plotting with plots=True is the recommended approach."
      ],
      "metadata": {
        "id": "VbITVqEkiPMj"
      },
      "execution_count": null,
      "outputs": []
    },
    {
      "cell_type": "markdown",
      "source": [
        "### Dumy"
      ],
      "metadata": {
        "id": "qAP2QvKpiX8M"
      }
    },
    {
      "cell_type": "markdown",
      "source": [
        "### train 사진 갖고와서 결과 확인, train의 라벨 갖고와서 감지하는지 확인"
      ],
      "metadata": {
        "id": "7wITf_Pcjyqo"
      }
    },
    {
      "cell_type": "code",
      "source": [
        "Image(filename='/content/runs/detect/train/train_batch0.jpg',width=1000)\n",
        "# Image(filename='/content/runs/detect/train3/train_batch0.jpg',width=1000)"
      ],
      "metadata": {
        "id": "2m5SOfBuiS4b"
      },
      "execution_count": null,
      "outputs": []
    },
    {
      "cell_type": "code",
      "source": [
        "Image(filename='/content/runs/detect/train/val_batch0_labels.jpg',width=1000)"
      ],
      "metadata": {
        "id": "JXiYH6SyiaA7"
      },
      "execution_count": null,
      "outputs": []
    },
    {
      "cell_type": "markdown",
      "source": [
        "### 모델 클래스 이름 불러오기, 클래스 이름 확인용"
      ],
      "metadata": {
        "id": "3WW4uhltj-IQ"
      }
    },
    {
      "cell_type": "code",
      "source": [
        "print(type(model.names),len(model.names))\n",
        "\n",
        "print(model.names)"
      ],
      "metadata": {
        "id": "p48yuqJwic7T"
      },
      "execution_count": null,
      "outputs": []
    },
    {
      "cell_type": "markdown",
      "source": [
        "## train 내의 이미지, 라벨 함께 출력"
      ],
      "metadata": {
        "id": "TN1uFaW_kCXp"
      }
    },
    {
      "cell_type": "code",
      "source": [
        "Image(filename='/content/runs/detect/train/val_batch0_pred.jpg',width=1000)"
      ],
      "metadata": {
        "id": "FR68044rifVS"
      },
      "execution_count": null,
      "outputs": []
    },
    {
      "cell_type": "markdown",
      "source": [
        "## 결과물 출력 부분\n",
        "<bar>\n",
        "학습된 결과물을 출력하는 부분입니다\n",
        "\n",
        "마지막 출력문인 'Results saved to '이후에 나오는 경로가 학습된 이미지 출력이 있는 폴더의 경로입니다"
      ],
      "metadata": {
        "id": "VtCZXxOWkI5B"
      }
    },
    {
      "cell_type": "code",
      "source": [
        "model = YOLO('/content/runs/detect/train/weights/best.pt')"
      ],
      "metadata": {
        "id": "eNzuUc7dihRU"
      },
      "execution_count": null,
      "outputs": []
    },
    {
      "cell_type": "code",
      "source": [
        "print(type(model.names),len(model.names))\n",
        "\n",
        "print(model.names)"
      ],
      "metadata": {
        "id": "0pjvzxRMilck"
      },
      "execution_count": null,
      "outputs": []
    },
    {
      "cell_type": "code",
      "source": [
        "# 테스트 이미지\n",
        "\n",
        "from glob import glob\n",
        "\n",
        "test_image_list = glob('/content/dataset/test/images/*')\n",
        "\n",
        "print(len(test_image_list))\n",
        "\n",
        "test_image_list.sort()\n",
        "\n",
        "for i in range(len(test_image_list)):\n",
        "\n",
        "    print('i = ',i, test_image_list[i])"
      ],
      "metadata": {
        "id": "p_7KcOE6inI8"
      },
      "execution_count": null,
      "outputs": []
    },
    {
      "cell_type": "code",
      "source": [
        "# results = model.predict(source ='/content/dataset/my_data/test/images/', save=True)\n",
        "results = model.predict(source ='/content/dataset/test/images/', save=True)"
      ],
      "metadata": {
        "id": "0WVyM-pripbM"
      },
      "execution_count": null,
      "outputs": []
    },
    {
      "cell_type": "markdown",
      "source": [
        "## 해당 경로에서 랜덤으로 이미지 출력을 보는 코드입니다\n",
        "\n",
        "colab은 특수한 패키지를 사용해야 볼 수 있습니다"
      ],
      "metadata": {
        "id": "WT66L2VJkXbj"
      }
    },
    {
      "cell_type": "code",
      "source": [
        "# 이미지 파일 경로를 가져오기\n",
        "# image_paths = glob('/content/runs/detect/predict2/*.jpg')\n",
        "image_paths = glob('/content/runs/detect/predict2/*.jpg')\n",
        "\n",
        "# 이미지가 없는 경우 에러 처리\n",
        "if not image_paths:\n",
        "    print(\"이미지 파일이 없습니다.\")\n",
        "else:\n",
        "    # 랜덤하게 이미지 선택\n",
        "    # selected_image_path = random.choice(image_paths)\n",
        "    # 이미지 표시\n",
        "    # img = cv2.imread(selected_image_path)\n",
        "\n",
        "    for image_path in image_paths:\n",
        "      img = cv2.imread(image_path)\n",
        "      cv2_imshow(img)"
      ],
      "metadata": {
        "id": "9xxMByurir28"
      },
      "execution_count": null,
      "outputs": []
    },
    {
      "cell_type": "markdown",
      "source": [
        "# Model Save"
      ],
      "metadata": {
        "id": "XfL47rmEjEVd"
      }
    },
    {
      "cell_type": "code",
      "source": [
        "import locale\n",
        "locale.getpreferredencoding = lambda: \"UTF-8\""
      ],
      "metadata": {
        "id": "70VXKEoKit3-"
      },
      "execution_count": null,
      "outputs": []
    },
    {
      "cell_type": "markdown",
      "source": [
        "## 코랩 경로 맞춰줘야 함 , 경로 주의!!!!!"
      ],
      "metadata": {
        "id": "LNQsfwFLix3l"
      }
    },
    {
      "cell_type": "code",
      "source": [
        "!cp /content/runs/detect/train/weights/best.pt /content/drive/MyDrive/my_best_human.pt # 앞은 생성된 best.pt 파일, 뒤는 드라이브에 저장할 파일 / 이름 설정 필요"
      ],
      "metadata": {
        "id": "LVH3O5uviuS0"
      },
      "execution_count": null,
      "outputs": []
    }
  ]
}